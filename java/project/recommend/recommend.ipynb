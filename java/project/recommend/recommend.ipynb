{
 "cells": [
  {
   "cell_type": "code",
   "execution_count": 16,
   "metadata": {},
   "outputs": [],
   "source": [
    "stores = [\n",
    "    {\n",
    "        \"store_id\": 1,\n",
    "        \"name\": \"力量先锋健身器材店\",\n",
    "        \"description\": \"提供高质量的力量训练器材，从哑铃到深蹲架，应有尽有。\",\n",
    "        \"reviews\": [\n",
    "            \"哑铃质量非常好，握感舒适，用了几个月依然如新。\",\n",
    "            \"客服非常耐心，帮我选购了合适的训练器材，体验很棒！\",\n",
    "            \"物流很快，包装扎实，器材安装方便，值得推荐。\"\n",
    "        ]\n",
    "    },\n",
    "    {\n",
    "        \"store_id\": 2,\n",
    "        \"name\": \"运动达人服饰店\",\n",
    "        \"description\": \"专注高性能运动服饰，为您提供舒适、透气的运动穿戴。\",\n",
    "        \"reviews\": [\n",
    "            \"运动衣材质很透气，跑步的时候感觉非常轻便。\",\n",
    "            \"尺码标准，颜色也很正，穿着效果非常好。\",\n",
    "            \"客服推荐的尺寸很合适，衣服洗了几次不变形。\"\n",
    "        ]\n",
    "    },\n",
    "    {\n",
    "        \"store_id\": 3,\n",
    "        \"name\": \"健身营养补剂专卖店\",\n",
    "        \"description\": \"专业提供健身增肌、减脂营养补剂，助您达成理想体型。\",\n",
    "        \"reviews\": [\n",
    "            \"蛋白粉口感不错，溶解性很好，喝完后恢复效果显著。\",\n",
    "            \"这家店的补剂种类齐全，买了几次感觉都很不错。\",\n",
    "            \"增肌粉效果很好，训练后感觉恢复得更快了。\"\n",
    "        ]\n",
    "    },\n",
    "    {\n",
    "        \"store_id\": 4,\n",
    "        \"name\": \"瑜伽生活馆\",\n",
    "        \"description\": \"专注瑜伽用品，从瑜伽垫到瑜伽服，为您提供舒适的瑜伽体验。\",\n",
    "        \"reviews\": [\n",
    "            \"瑜伽垫防滑效果很好，厚度适中，练习时很稳定。\",\n",
    "            \"买的瑜伽服面料柔软透气，运动起来非常舒适。\",\n",
    "            \"店铺的瑜伽用品质量过硬，朋友们也都推荐这家。\"\n",
    "        ]\n",
    "    },\n",
    "    {\n",
    "        \"store_id\": 5,\n",
    "        \"name\": \"骑行天地\",\n",
    "        \"description\": \"为骑行爱好者提供专业的骑行装备，助您探索更多可能。\",\n",
    "        \"reviews\": [\n",
    "            \"自行车骑行服穿着很舒适，材质透气不闷汗。\",\n",
    "            \"买了山地车轮胎，质量很好，耐磨耐用，适合长途骑行。\",\n",
    "            \"骑行手套很合手，防滑效果也不错，骑车更稳了。\"\n",
    "        ]\n",
    "    },\n",
    "    {\n",
    "        \"store_id\": 6,\n",
    "        \"name\": \"户外探险装备店\",\n",
    "        \"description\": \"专注户外运动装备，提供高质量的登山、露营装备。\",\n",
    "        \"reviews\": [\n",
    "            \"买了登山杖，轻便又结实，爬山时感觉非常有帮助。\",\n",
    "            \"帐篷防水性能很好，露营时遇到雨天也不用担心。\",\n",
    "            \"这家店的户外装备性价比很高，质量可靠。\"\n",
    "        ]\n",
    "    },\n",
    "    {\n",
    "        \"store_id\": 7,\n",
    "        \"name\": \"跑步达人鞋店\",\n",
    "        \"description\": \"提供专业跑步鞋，助您轻松征服每一公里。\",\n",
    "        \"reviews\": [\n",
    "            \"跑步鞋非常轻便，鞋底缓震效果好，跑长距离也不累。\",\n",
    "            \"鞋子尺码合适，穿着非常舒适，跑步体验提升不少。\",\n",
    "            \"物流很快，鞋子颜值高，性能也不错，推荐给跑步爱好者。\"\n",
    "        ]\n",
    "    },\n",
    "    {\n",
    "        \"store_id\": 8,\n",
    "        \"name\": \"拳击搏击装备店\",\n",
    "        \"description\": \"提供专业的拳击、搏击训练装备，助您更好地训练。\",\n",
    "        \"reviews\": [\n",
    "            \"拳击手套质量很好，护手效果显著，打沙袋时很稳。\",\n",
    "            \"拳套的包裹感很强，手腕部分支撑力不错，打击感觉很好。\",\n",
    "            \"速度球设计合理，弹性好，训练反应速度很有效。\"\n",
    "        ]\n",
    "    },\n",
    "    {\n",
    "        \"store_id\": 9,\n",
    "        \"name\": \"室内健身房装备店\",\n",
    "        \"description\": \"专为室内健身房提供全套专业设备，打造极致的健身体验。\",\n",
    "        \"reviews\": [\n",
    "            \"健身房的跑步机非常安静，使用体验很好，值得推荐。\",\n",
    "            \"买了划船机，安装简单，使用顺畅，效果不错。\",\n",
    "            \"健身房设备齐全，售后服务也很到位，值得信赖。\"\n",
    "        ]\n",
    "    },\n",
    "    {\n",
    "        \"store_id\": 10,\n",
    "        \"name\": \"运动恢复与按摩设备店\",\n",
    "        \"description\": \"提供各种运动恢复设备，助您快速恢复体能，提升运动表现。\",\n",
    "        \"reviews\": [\n",
    "            \"按摩枪效果很好，锻炼后用来放松肌肉，恢复更快。\",\n",
    "            \"筋膜枪力度合适，操作简单，缓解疲劳很有效。\",\n",
    "            \"买的泡沫轴质量很不错，用来放松肌肉非常舒适。\"\n",
    "        ]\n",
    "    }\n",
    "]\n"
   ]
  },
  {
   "cell_type": "code",
   "execution_count": 17,
   "metadata": {},
   "outputs": [],
   "source": [
    "for store in stores:\n",
    "    store['content'] = store['name'] + \" \" + store['description'] + \" \" + \" \".join(store['reviews'])"
   ]
  },
  {
   "cell_type": "code",
   "execution_count": 18,
   "metadata": {},
   "outputs": [],
   "source": [
    "import jieba\n",
    "\n",
    "# 加载百度停用词库\n",
    "stopwords = set()\n",
    "with open(r'd:\\Downloads\\baidu_stopwords.txt', 'r', encoding='utf-8') as f:\n",
    "    stopwords.update([line.strip() for line in f.readlines()])\n",
    "\n",
    "# 对每个店铺的内容进行分词和去停用词\n",
    "for store in stores:\n",
    "    words = jieba.lcut(store['content'])  # 分词\n",
    "    store['cleaned_content'] = [word for word in words if word not in stopwords and len(word.strip()) > 1]\n"
   ]
  },
  {
   "cell_type": "code",
   "execution_count": 19,
   "metadata": {},
   "outputs": [],
   "source": [
    "from gensim.models import KeyedVectors\n",
    "# 加载预训练模型\n",
    "# 基于腾讯AI实验室开源的中文词向量数据集预训练的word2vec，下载地址：\n",
    "# url = \"https://github.com/shibing624/text2vec/releases/download/1.1.4/light_Tencent_AILab_ChineseEmbedding.bin\"\n",
    "path = r'd:\\Downloads\\light_Tencent_AILab_ChineseEmbedding.bin'\n",
    "model = KeyedVectors.load_word2vec_format(path, binary=True)"
   ]
  },
  {
   "cell_type": "code",
   "execution_count": 20,
   "metadata": {},
   "outputs": [],
   "source": [
    "import numpy as np\n",
    "\n",
    "def get_feature_vector(words, model):\n",
    "    vectors = [model[word] for word in words if word in model]\n",
    "    if len(vectors) == 0:\n",
    "        return np.zeros(model.vector_size)\n",
    "    return np.mean(vectors, axis=0)\n",
    "\n",
    "# 为每个店铺计算特征向量\n",
    "for store in stores:\n",
    "    store['feature_vector'] = get_feature_vector(store['cleaned_content'], model)\n"
   ]
  },
  {
   "cell_type": "code",
   "execution_count": 21,
   "metadata": {},
   "outputs": [],
   "source": [
    "user_content = \"\"\"\n",
    "力量先锋健身器材店 提供高质量的力量训练器材，从哑铃到深蹲架，应有尽有。 \n",
    "我购买了他们的哑铃，使用感受非常棒！质量很好，手感非常舒适，耐用性也不错。 \n",
    "客服的态度也非常好，解答了很多我的问题，帮助我选择了适合的训练器材。 \n",
    "物流速度非常快，两天就收到了器材，包装也很稳固，没有损坏。\n",
    "\"\"\" # 包含名称 描述和评论\n",
    "\n",
    "user_words = jieba.lcut(user_content)\n",
    "user_cleaned_words = [word for word in user_words if word not in stopwords and len(word.strip()) > 1]\n",
    "user_feature_vector = get_feature_vector(user_cleaned_words, model)\n"
   ]
  },
  {
   "cell_type": "code",
   "execution_count": 24,
   "metadata": {},
   "outputs": [],
   "source": [
    "def cosine_similarity(vec1, vec2):\n",
    "    dot_product = np.dot(vec1, vec2)\n",
    "    norm1 = np.linalg.norm(vec1)\n",
    "    norm2 = np.linalg.norm(vec2)\n",
    "    return dot_product / (norm1 * norm2)\n",
    "\n",
    "# 计算与每个店铺的相似度\n",
    "similarities = []\n",
    "for store in stores:\n",
    "    similarity = cosine_similarity(user_feature_vector, store['feature_vector'])\n",
    "    similarities.append((store['store_id'], similarity))\n",
    "\n",
    "# 根据相似度排序，取前10个推荐\n",
    "top_10_recommendations = sorted(similarities, key=lambda x: x[1], reverse=True)[:5]\n"
   ]
  },
  {
   "cell_type": "code",
   "execution_count": 25,
   "metadata": {},
   "outputs": [
    {
     "data": {
      "text/plain": [
       "[(1, 0.98644453),\n",
       " (9, 0.92109644),\n",
       " (7, 0.90712154),\n",
       " (8, 0.9016912),\n",
       " (3, 0.892873)]"
      ]
     },
     "execution_count": 25,
     "metadata": {},
     "output_type": "execute_result"
    }
   ],
   "source": [
    "top_10_recommendations"
   ]
  }
 ],
 "metadata": {
  "kernelspec": {
   "display_name": "torch",
   "language": "python",
   "name": "python3"
  },
  "language_info": {
   "codemirror_mode": {
    "name": "ipython",
    "version": 3
   },
   "file_extension": ".py",
   "mimetype": "text/x-python",
   "name": "python",
   "nbconvert_exporter": "python",
   "pygments_lexer": "ipython3",
   "version": "3.8.0"
  }
 },
 "nbformat": 4,
 "nbformat_minor": 2
}
